{
 "cells": [
  {
   "cell_type": "code",
   "execution_count": 1,
   "metadata": {
    "collapsed": true
   },
   "outputs": [],
   "source": [
    "import numpy as np\n",
    "import pandas as pd\n",
    "import csv"
   ]
  },
  {
   "cell_type": "code",
   "execution_count": 9,
   "metadata": {},
   "outputs": [],
   "source": [
    "df_influencers_ranking = pd.read_csv('Influencers_Ranking.csv')"
   ]
  },
  {
   "cell_type": "code",
   "execution_count": 10,
   "metadata": {},
   "outputs": [],
   "source": [
    "top_10_influencers = df.head(10)"
   ]
  },
  {
   "cell_type": "code",
   "execution_count": 11,
   "metadata": {},
   "outputs": [
    {
     "name": "stdout",
     "output_type": "stream",
     "text": [
      "                   username     value  Unnamed: 2\n",
      "0  ramachandra rao musunuru  107.8608         NaN\n",
      "1       SKS Media Singapore  107.8608         NaN\n",
      "2                Sash Warna  107.8608         NaN\n",
      "3                   M Bueno  107.8608         NaN\n",
      "4             Deborah Jones  107.8608         NaN\n",
      "5                 Melviniii  107.8608         NaN\n",
      "6              SKS_MediaUAE  107.8608         NaN\n",
      "7  Louis Truong #TraxionICO   80.8956         NaN\n",
      "8         Кирилл Протогенов   80.8956         NaN\n",
      "9                    mrbate   80.8956         NaN\n"
     ]
    }
   ],
   "source": [
    "print(top_10_influencers)"
   ]
  },
  {
   "cell_type": "code",
   "execution_count": null,
   "metadata": {
    "collapsed": true
   },
   "outputs": [],
   "source": []
  }
 ],
 "metadata": {
  "kernelspec": {
   "display_name": "Python 3",
   "language": "python",
   "name": "python3"
  },
  "language_info": {
   "codemirror_mode": {
    "name": "ipython",
    "version": 3
   },
   "file_extension": ".py",
   "mimetype": "text/x-python",
   "name": "python",
   "nbconvert_exporter": "python",
   "pygments_lexer": "ipython3",
   "version": "3.6.2"
  }
 },
 "nbformat": 4,
 "nbformat_minor": 2
}
