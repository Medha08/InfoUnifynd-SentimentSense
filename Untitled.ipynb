{
 "cells": [
  {
   "cell_type": "code",
   "execution_count": 1,
   "metadata": {
    "collapsed": true
   },
   "outputs": [],
   "source": [
    "import requests\n",
    "import re\n",
    "import numpy as np\n",
    "\n",
    "import pandas as pd\n",
    "from textblob import TextBlob\n",
    "import json"
   ]
  },
  {
   "cell_type": "code",
   "execution_count": 5,
   "metadata": {
    "collapsed": true
   },
   "outputs": [],
   "source": [
    "r = requests.get('https://newsapi.org/v2/top-headlines?sources=crypto-coins-news&apiKey=c7f7fc0490074243888cc544008bff3e')\n",
    "\n",
    "# print(type(r.json()))\n",
    "jsonData  = r.json()\n",
    "newsData = []"
   ]
  },
  {
   "cell_type": "code",
   "execution_count": 6,
   "metadata": {
    "collapsed": true
   },
   "outputs": [],
   "source": [
    "for i in jsonData['articles']:\n",
    "    news = {}\n",
    "    news[\"created_at\"] = i[\"publishedAt\"]\n",
    "    text = re.sub(r'@\\S+|https?://\\S+', '', i[\"description\"])\n",
    "    cleaned = \"\".join(re.findall('[A-Z][^A-Z]*', text))\n",
    "    tweet = ' '.join(re.sub(\"(@[A-Za-z0-9]+)|([^0-9A-Za-z \\t])|(\\w+:\\/\\/\\S+)\",\" \",cleaned).split())\n",
    "    news[\"description\"] = tweet\n",
    "    newsData.append(news)"
   ]
  },
  {
   "cell_type": "code",
   "execution_count": 33,
   "metadata": {
    "collapsed": true
   },
   "outputs": [],
   "source": [
    "def find_Sentiment():\n",
    "    sentiment_df = []\n",
    "#     print(newsData)\n",
    "    for obj in newsData:\n",
    "        temp = []\n",
    "        print(obj[\"description\"])\n",
    "#         print(\"\\n\\n\")\n",
    "        analysis = TextBlob(obj[\"description\"])\n",
    "        day = obj['created_at']\n",
    "        temp.append(day)\n",
    "        temp.append(analysis.sentiment.polarity)\n",
    "        print (temp)\n",
    "        "
   ]
  },
  {
   "cell_type": "code",
   "execution_count": 34,
   "metadata": {},
   "outputs": [
    {
     "name": "stdout",
     "output_type": "stream",
     "text": [
      "Bart Smith who has been crowned Wall Street s Crypto King by CNBC says institutional investors will jump into bitcoin once there is regulatory clarity\n",
      "['2018-06-08T23:32:09Z', 0.0]\n",
      "The billionaire CEO of Nowegian Airlines has launched a cryptocurrency exchange and his airline may begin accepting cryptocurrency payments\n",
      "['2018-06-08T23:14:07Z', 0.0]\n",
      "Bitmain CEO Jihan Wu has denied reports that the China based firm which controls 80 of the ASIC market has a secret cryptocurrency mining operation\n",
      "['2018-06-08T22:13:16Z', -0.30000000000000004]\n",
      "Enterprise blockchain startup R3 is burning through cash at a breakneck pace and could be out of money by the first quarter of 2019\n",
      "['2018-06-08T21:14:18Z', 0.25]\n",
      "Bitcoin price has bottomed and will rise over the next few days says Robert Sluymer head of technical strategy at Fundstrat\n",
      "['2018-06-08T20:29:32Z', -0.06666666666666667]\n",
      "Get exclusive analysis and cryptocurrency insights on Hacked com for just 39 per month One of the top market regulators in the US said this week that cryptocurrency is a technological revolution that will one day be a part of every national economy Speak\n",
      "['2018-06-08T19:13:10Z', 0.5]\n",
      "Get exclusive analysis and cryptocurrency insights on Hacked com for just 39 per month The Russian government will continue to tread the subject of cryptocurrencies with caution newly re elected president Vladimir Putin said during his annual Q A hotline s\n",
      "['2018-06-08T18:12:57Z', -0.010101010101010102]\n",
      "Mike Novogratz a billionaire investor and former Goldman Sachs trader told Erik Schatzker that cryptocurrency market is moving to the 20 trillion region\n",
      "['2018-06-08T17:11:57Z', 0.0]\n",
      "Litecoin cash has become the latest cryptocurrency to succumb to a 51 percent attack highlighting a worrisome trend among small cap coins\n",
      "['2018-06-08T15:59:35Z', 0.125]\n",
      "A mysterious Asian whale accumulated more than 94 000 bitcoins during the first half of 2018 Are they now preparing for a sell off\n",
      "['2018-06-08T14:40:02Z', 0.11666666666666667]\n"
     ]
    }
   ],
   "source": [
    "find_Sentiment()"
   ]
  },
  {
   "cell_type": "code",
   "execution_count": null,
   "metadata": {
    "collapsed": true
   },
   "outputs": [],
   "source": []
  }
 ],
 "metadata": {
  "kernelspec": {
   "display_name": "Python 3",
   "language": "python",
   "name": "python3"
  },
  "language_info": {
   "codemirror_mode": {
    "name": "ipython",
    "version": 3
   },
   "file_extension": ".py",
   "mimetype": "text/x-python",
   "name": "python",
   "nbconvert_exporter": "python",
   "pygments_lexer": "ipython3",
   "version": "3.6.2"
  }
 },
 "nbformat": 4,
 "nbformat_minor": 2
}
