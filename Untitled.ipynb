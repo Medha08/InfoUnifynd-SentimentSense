{
 "cells": [
  {
   "cell_type": "code",
   "execution_count": 20,
   "metadata": {
    "collapsed": true
   },
   "outputs": [],
   "source": [
    "import json\n",
    "import requests\n"
   ]
  },
  {
   "cell_type": "code",
   "execution_count": 21,
   "metadata": {},
   "outputs": [
    {
     "name": "stdout",
     "output_type": "stream",
     "text": [
      "[{'title-text': 'RT @BitcoinByte: #Cardano [#ADA] aims for mainstream adoption with Emurgo (@emurgo_io) - Metaps Plus partnership @seungyeonkim\\n#Blockchain????>_', 'Sentiment': 1}, {'title-text': 'RT @PhanTi_91: We are proud to announce that @bitebtccom lists XVG/BTC starting 05/10! Verge is becoming an increasingly attractive currenc????>_', 'Sentiment': 1}, {'title-text': '#TokenPay Announces Acquisition of 9.9% of WEG Bank AG in Germany with Option to Acquire an Additional 80.1% upon A????>_', 'Sentiment': 1}, {'title-text': '\"Payments is the baseline use case for unlocking the value in #blockchain.\" \\n-@ashgoblue\\'s keynote at????>_', 'Sentiment': 1}, {'title-text': '????>?\\x8fAt its core Ripple is a technology company leveraging digital assets to solve a global payments problem. We believ????>_', 'Sentiment': 1}, {'title-text': \"RT @trafficjunky: It's here. \\n\\nTrafficJunky will be accepting Verge cryptocurrency starting next Monday! $XVG #XVG\\n\\nMORE\", 'Sentiment': 1}, {'title-text': 'RT @iotatoken: We are moving rapidly towards the next epoch of IOTA, today the IOTA Foundation is excited and proud to start the official u????>_', 'Sentiment': 1}, {'title-text': 'We are moving rapidly towards the next epoch of IOTA, today the IOTA Foundation is excited and proud to start the o????>_', 'Sentiment': 1}, {'title-text': '#NANO Competition - 15,000 $NANO To Giveaway', 'Sentiment': 1}, {'title-text': 'Goldman Sachs to Open a Bitcoin Trading Operation', 'Sentiment': 1}, {'title-text': 'The IOTA Foundation is really happy and proud to be part of the MOBI Alliance\\n\\n\\n\\n#IOTA', 'Sentiment': 1}, {'title-text': 'Taxis Take BCH, Stores Sell BTC in the Russian City of Rostov', 'Sentiment': 1}, {'title-text': 'RT @bitfinex: Trading is now live for XLM and XVG.\\n\\nBoth pairs can be traded against BTC, ETH, USD, EUR, GBP &amp; JPY.', 'Sentiment': 1}, {'title-text': 'Sharding is coming.', 'Sentiment': 1}, {'title-text': 'I just published ????>?\\x8fIntroduction of ICONest: ICON????>??s Token Launch Platform????>?\\x9d', 'Sentiment': 1}, {'title-text': \"RT @BitcoinByte: More power to the #Cardano (#ADA @ADAcoin_ ) team ????>?' Proof of-stake (PoS) is now solved! \\n@Cardano_ @sol3gga @InputOutputH????>_\", 'Sentiment': 1}, {'title-text': 'Introducing the VeChainThor Blockchain Transaction Model, an innovation enabling mass adoption.', 'Sentiment': 1}, {'title-text': 'RT @cryptomanran: I interviewed @justinvendetta from @vergecurrency, Learnt the following:\\n founder @justinvendetta , smart and humble????>_', 'Sentiment': 1}, {'title-text': '????>?\\x8fIn what rational universe could someone simply issue electronic scrip????>?\"or just announce that they intend to????>?\"and cre????>_', 'Sentiment': 1}, {'title-text': '????>?\\x8fPantera has about 10 percent of its investments in Bitcoins... But the fund????>??s single largest bet is on Icon????>?\\x9d $icx????>_', 'Sentiment': 1}, {'title-text': 'RT @mercury_fx_ltd: In Q1, along with other xRapid pilots customers, we have proved that #xRapid can lower liquidity costs &amp; increase payme????>_', 'Sentiment': 1}, {'title-text': 'We????>??re excited to announce $NANO deposits and withdrawals on @binance are open again. Big thanks to @cz_binance and????>_', 'Sentiment': 1}, {'title-text': 'The 2018 Q1 #XRP Markets Report is here! We take a critical look at the digital asset and the ecosystem around it.', 'Sentiment': 1}, {'title-text': 'RT @CoinPaymentsNET: Congratulations @vergecurrency for your partnership with @mindgeek! CoinPayments is proud to provide #XVG payment proc????>_', 'Sentiment': 1}, {'title-text': '*ANNOUNCEMENT* Power Ledger and Japan????>??s second-largest electricity utility Kansai Electric Power Co. (KEPCO/????>_', 'Sentiment': 1}, {'title-text': '????>?\\x8fWe are covering 50% of all the FX payments the Santander Group does annually. It works really well????>_ we????>??ve tested f????>_', 'Sentiment': 1}, {'title-text': 'RT @TorGuard: @SilvesterHQ TorGuard VPN is now accepting #XVG for all services!', 'Sentiment': 1}, {'title-text': 'Many BTC cult members were triggered by this tweet, and they call it a lie.\\n\\nCan somebody please show the internet????>_', 'Sentiment': 0}, {'title-text': 'After months of anticipation, the Substratum team is excited to finally announce we will be the first ERC20 token t????>_', 'Sentiment': 0}, {'title-text': 'Bitcoin Cash is building all the tools to make it useful as cash for the entire world.\\nJoin us!????>_', 'Sentiment': 0}, {'title-text': 'Roger Ver: \"Here is what I think makes Bitcoin Bitcoin, and why I think Bitcoin Cash is Bitcoin\" @rogerkver', 'Sentiment': 0}, {'title-text': 'Why is Bitcoin Cash perfect for micropayments?', 'Sentiment': 0}, {'title-text': 'Whenever you read the comments section of an article, tweet, or Reddit post about #BitcoinCash, just remember that????>_', 'Sentiment': 0}, {'title-text': 'What is Verge?', 'Sentiment': 0}, {'title-text': 'Pornhub Partners With Verge Cryptocurrency, Shifting The Future Of Porn Payments via @forbes', 'Sentiment': 0}, {'title-text': 'Pornhub now allows payments from one specific cryptocurrency! \\n via @mashable', 'Sentiment': 0}, {'title-text': 'Verge XVG Now 2nd Most Traded Crypto on Binance! via @cointhud $XVG #vergeFAM', 'Sentiment': 0}, {'title-text': 'Wow! Verge (XVG) Up 100% in April, Whats Going On?', 'Sentiment': 0}, {'title-text': \"Roger Ver nailed it in this Bloomberg interview. I can't understand how anyone thinks the guy is a villain, he's be????>_\", 'Sentiment': 0}, {'title-text': \"RT @XVGGAUDI: Verge's update was a success! \\nThe blockchain is moving perfectly on all algorithms\\n\\n@vergecurrency #Vergecurrency #XVG $xvg????>_\", 'Sentiment': 0}, {'title-text': 'Magic Internet Money is more fun than Magic Internet Store of Value.\\nBCH &gt; BTC', 'Sentiment': 0}, {'title-text': 'An announcement regarding LitePay.', 'Sentiment': 0}, {'title-text': 'Bitcoin Cash is the real Bitcoin, as envisioned by Satoshi Nakamoto. This peer-to-peer electronic cash system enabl????>_', 'Sentiment': 0}, {'title-text': '\"The vision of Satoshi Nakamoto lives on in the form of Bitcoin Cash\" \\n- @CryptoStratz \\n\\nLearn more at????>_', 'Sentiment': 0}, {'title-text': 'Waltonchain official response to the recent Twitter incident. #waltonchain $wtc \\n\\nVideo Link:????>_', 'Sentiment': 0}, {'title-text': 'How to change your Bitcoin Core ????>?\\x8fstore of value????>?\\x9d tokens for Bitcoin Cash cryptocurrency in the????>_', 'Sentiment': 0}, {'title-text': 'I just bought 50 Bitcoin (BCH) ATM machines for a bit under half a million dollars. Thanks to our purchase the man????>_', 'Sentiment': 0}, {'title-text': 'RT @coinbase: Customers using credit cards on Coinbase: the following card issuers are now blocking purchases of digital currency with cred????>_', 'Sentiment': 0}, {'title-text': 'RT @alistairmilne: Someone has opened nearly 4000 BTC of shorts vs USD since around 8am. We are either being front-run or they want to caus????>_', 'Sentiment': 0}, {'title-text': 'Payments giant @stripe discontinues Bitcoin Core payments, citing high fees and slow transactions. \\n\\n\"It????>??s possible????>_', 'Sentiment': 0}, {'title-text': 'The Bitcoin whitepaper describes a problem inherent in legacy payment systems: \\n\\nIncreased transaction costs limit????>_', 'Sentiment': 0}, {'title-text': 'PARIS (Reuters) - France and Germany will make joint proposals to regulate the bitcoin cryptocurrency at the next s????>_', 'Sentiment': 0}, {'title-text': 'Bitcoin Core\\'s mission statement has gone from being \"Bank the Unbanked\" to \"Let them eat cake.\"', 'Sentiment': 0}, {'title-text': '\"Just pay a $5 fee and it\\'ll go through every time unless you\\'re doing something stupid.\" - Bitcoin Core developer????>_', 'Sentiment': 0}, {'title-text': 'Bitcoin was working great until Blockstream used censorship and lies to hijack the network in order to intentionall????>_', 'Sentiment': 0}, {'title-text': 'Why Some People Call Bitcoin Cash ????>?Ebcash????>??. This Will Be Shocking to New Readers.', 'Sentiment': 0}, {'title-text': 'Bitcoin is BCH', 'Sentiment': 0}, {'title-text': '\"Skeptics Say No One Uses It But BCH Daily Transaction Volume Is Catching Up With the Litecoin Network\"', 'Sentiment': 0}, {'title-text': 'Are there any compelling arguments against Bitcoin Cash? The usual arguments go:\\n\\n- \"It\\'s an altcoin\" (ad hominem)????>_', 'Sentiment': 0}, {'title-text': \"It's so nice to see the Bitcoin community coming together to work on positive developments once again. \\n\\nWay to go,????>_\", 'Sentiment': 0}, {'title-text': 'Median transaction fee on Bitcoin Core: $15.932\\nMedian transaction fee on Bitcoin Cash: $0.0291\\n\\nBitcoin Core is 54????>_', 'Sentiment': 0}, {'title-text': 'BitClubNetwork announces that they will be switching to #BitcoinCash (BCH) on Feb 1st, citing extremely high fees o????>_', 'Sentiment': 0}, {'title-text': \"RT @jonnajarian: A friend has two tickets for the Super Bowl, paid $2,500 each but he didn't realize it was the same day as his wedding. I????>_\", 'Sentiment': 0}, {'title-text': 'announces that #BitcoinCash is the real Bitcoin, and will be gradually deprecating features????>_', 'Sentiment': 0}, {'title-text': 'via Reddit: \\n\\n\"got $50CAD worth of BTC for christmas, and had to use a $25CAD worth of transaction fees. then after????>_', 'Sentiment': 0}, {'title-text': '\"In the 2 minutes and 40 seconds the BCH-USD book was open for trading:\\n\\n4,443 orders were placed\\n3,461 matches occ????>_', 'Sentiment': 0}, {'title-text': 'Latest News: Microsoft Has Stopped Accepting Bitcoin Deposits #Bitcoin', 'Sentiment': 0}, {'title-text': 'Latest News: Litigation Filed in India for Immediate Intervention of the Flow of Bitcoins', 'Sentiment': 0}, {'title-text': 'Global warming proven conclusively false for the 174th time. Looking forward to seeing it get proven conclusively t????>_', 'Sentiment': 0}, {'title-text': \"Latest News: Tron, Cardano, Verge and Ripple ????>?' Four Cryptocurrencies That Actually Meet the Definition of Vaporware????>_\", 'Sentiment': 0}, {'title-text': 'According to Twitter you can????>??t advocate for murder on their platform unless it is mass murder funded by theft. Then????>_', 'Sentiment': 0}, {'title-text': 'RT @justinsuntron: Five brilliant developers from #alibaba #Microsoft #JD #PKU just joined #TRON this week. I will introduce them in the li????>_', 'Sentiment': 0}, {'title-text': 'RT @justinsuntron: Thanks, CNBC. But we are not \"tiny\" digital coin and we will be huge soon with great decentralized blockchain technology????>_', 'Sentiment': 0}, {'title-text': 'RT @justinsuntron: Google Trends Japan #TRON #TRX $TRX Japanese are crazy about #tron.', 'Sentiment': 0}, {'title-text': 'South Korea Expected to End Anonymous Crypto Trading by January 20', 'Sentiment': 0}, {'title-text': 'I found a photo of those ????>?\\x8fEvil Chinese????>?\\x9d that support Bitcoin Cash that we keep hearing about.', 'Sentiment': 0}, {'title-text': 'RT @kingbtc: And one for the $XRP boys', 'Sentiment': 0}, {'title-text': 'The current version of Bitcoin Cash can easily handle all of the Bitcoin Core and Ethereum transactions combined.', 'Sentiment': 0}]\n"
     ]
    }
   ],
   "source": [
    "response = requests.get(\"http://13.126.248.75:8080/dataset/nlp/tweet\")\n",
    "json_data = json.loads(response.text)\n",
    "print(json_data)"
   ]
  },
  {
   "cell_type": "code",
   "execution_count": 29,
   "metadata": {
    "collapsed": true
   },
   "outputs": [],
   "source": [
    "from nltk.tokenize import WordPunctTokenizer\n",
    "from bs4 import BeautifulSoup\n",
    "\n",
    "tok = WordPunctTokenizer()\n",
    "pat1 = r'@[A-Za-z0-9]+'\n",
    "pat2 = r'https?://[A-Za-z0-9./]+'\n",
    "combined_pat = r'|'.join((pat1, pat2))\n",
    "\n",
    "def tweet_cleaner(text):\n",
    "    soup = BeautifulSoup(text, 'lxml')\n",
    "    souped = soup.get_text()\n",
    "    stripped = re.sub(combined_pat, '', souped)\n",
    "    try:\n",
    "        clean = stripped.decode(\"utf-8-sig\").replace(u\"\\ufffd\", \"?\")\n",
    "    except:\n",
    "        clean = stripped\n",
    "    letters_only = re.sub(\"[^a-zA-Z]\", \" \", clean)\n",
    "    lower_case = letters_only.lower()\n",
    "    words = tok.tokenize(lower_case)\n",
    "    return (\" \".join(words)).strip()\n",
    "\n",
    "def clean_if(text):\n",
    "    testing = text\n",
    "    result = tweet_cleaner(testing)\n",
    "    return result"
   ]
  },
  {
   "cell_type": "code",
   "execution_count": 32,
   "metadata": {},
   "outputs": [
    {
     "name": "stdout",
     "output_type": "stream",
     "text": [
      "rt cardano ada aims for mainstream adoption with emurgo io metaps plus partnership blockchain\n",
      "rt we are proud to announce that lists xvg btc starting verge is becoming an increasingly attractive currenc\n",
      "tokenpay announces acquisition of of weg bank ag in germany with option to acquire an additional upon a\n",
      "payments is the baseline use case for unlocking the value in blockchain s keynote at\n",
      "at its core ripple is a technology company leveraging digital assets to solve a global payments problem we believ\n",
      "rt it s here trafficjunky will be accepting verge cryptocurrency starting next monday xvg xvg more\n",
      "rt we are moving rapidly towards the next epoch of iota today the iota foundation is excited and proud to start the official u\n",
      "we are moving rapidly towards the next epoch of iota today the iota foundation is excited and proud to start the o\n",
      "nano competition nano to giveaway\n",
      "goldman sachs to open a bitcoin trading operation\n",
      "the iota foundation is really happy and proud to be part of the mobi alliance iota\n",
      "taxis take bch stores sell btc in the russian city of rostov\n",
      "rt trading is now live for xlm and xvg both pairs can be traded against btc eth usd eur gbp jpy\n",
      "sharding is coming\n",
      "i just published introduction of iconest icon s token launch platform\n",
      "rt more power to the cardano ada team proof of stake pos is now solved\n",
      "introducing the vechainthor blockchain transaction model an innovation enabling mass adoption\n",
      "rt i interviewed from learnt the following founder smart and humble\n",
      "in what rational universe could someone simply issue electronic scrip or just announce that they intend to and cre\n",
      "pantera has about percent of its investments in bitcoins but the fund s single largest bet is on icon icx\n",
      "rt fx ltd in q along with other xrapid pilots customers we have proved that xrapid can lower liquidity costs increase payme\n",
      "we re excited to announce nano deposits and withdrawals on are open again big thanks to binance and\n",
      "the q xrp markets report is here we take a critical look at the digital asset and the ecosystem around it\n",
      "rt congratulations for your partnership with coinpayments is proud to provide xvg payment proc\n",
      "announcement power ledger and japan s second largest electricity utility kansai electric power co kepco\n",
      "we are covering of all the fx payments the santander group does annually it works really well we ve tested f\n",
      "rt torguard vpn is now accepting xvg for all services\n",
      "many btc cult members were triggered by this tweet and they call it a lie can somebody please show the internet\n",
      "after months of anticipation the substratum team is excited to finally announce we will be the first erc token t\n",
      "bitcoin cash is building all the tools to make it useful as cash for the entire world join us\n",
      "roger ver here is what i think makes bitcoin bitcoin and why i think bitcoin cash is bitcoin\n",
      "why is bitcoin cash perfect for micropayments\n",
      "whenever you read the comments section of an article tweet or reddit post about bitcoincash just remember that\n",
      "what is verge\n",
      "pornhub partners with verge cryptocurrency shifting the future of porn payments via\n",
      "pornhub now allows payments from one specific cryptocurrency via\n",
      "verge xvg now nd most traded crypto on binance via xvg vergefam\n",
      "wow verge xvg up in april whats going on\n",
      "roger ver nailed it in this bloomberg interview i can t understand how anyone thinks the guy is a villain he s be\n",
      "rt verge s update was a success the blockchain is moving perfectly on all algorithms vergecurrency xvg xvg\n",
      "magic internet money is more fun than magic internet store of value bch btc\n",
      "an announcement regarding litepay\n",
      "bitcoin cash is the real bitcoin as envisioned by satoshi nakamoto this peer to peer electronic cash system enabl\n",
      "the vision of satoshi nakamoto lives on in the form of bitcoin cash learn more at\n",
      "waltonchain official response to the recent twitter incident waltonchain wtc video link\n",
      "how to change your bitcoin core store of value tokens for bitcoin cash cryptocurrency in the\n",
      "i just bought bitcoin bch atm machines for a bit under half a million dollars thanks to our purchase the man\n",
      "rt customers using credit cards on coinbase the following card issuers are now blocking purchases of digital currency with cred\n",
      "rt someone has opened nearly btc of shorts vs usd since around am we are either being front run or they want to caus\n",
      "payments giant discontinues bitcoin core payments citing high fees and slow transactions it s possible\n",
      "the bitcoin whitepaper describes a problem inherent in legacy payment systems increased transaction costs limit\n",
      "paris reuters france and germany will make joint proposals to regulate the bitcoin cryptocurrency at the next s\n",
      "bitcoin core s mission statement has gone from being bank the unbanked to let them eat cake\n",
      "just pay a fee and it ll go through every time unless you re doing something stupid bitcoin core developer\n",
      "bitcoin was working great until blockstream used censorship and lies to hijack the network in order to intentionall\n",
      "why some people call bitcoin cash ebcash this will be shocking to new readers\n",
      "bitcoin is bch\n",
      "skeptics say no one uses it but bch daily transaction volume is catching up with the litecoin network\n",
      "are there any compelling arguments against bitcoin cash the usual arguments go it s an altcoin ad hominem\n",
      "it s so nice to see the bitcoin community coming together to work on positive developments once again way to go\n",
      "median transaction fee on bitcoin core median transaction fee on bitcoin cash bitcoin core is\n",
      "bitclubnetwork announces that they will be switching to bitcoincash bch on feb st citing extremely high fees o\n",
      "rt a friend has two tickets for the super bowl paid each but he didn t realize it was the same day as his wedding i\n",
      "announces that bitcoincash is the real bitcoin and will be gradually deprecating features\n",
      "via reddit got cad worth of btc for christmas and had to use a cad worth of transaction fees then after\n",
      "in the minutes and seconds the bch usd book was open for trading orders were placed matches occ\n",
      "latest news microsoft has stopped accepting bitcoin deposits bitcoin\n",
      "latest news litigation filed in india for immediate intervention of the flow of bitcoins\n",
      "global warming proven conclusively false for the th time looking forward to seeing it get proven conclusively t\n",
      "latest news tron cardano verge and ripple four cryptocurrencies that actually meet the definition of vaporware\n",
      "according to twitter you can t advocate for murder on their platform unless it is mass murder funded by theft then\n",
      "rt five brilliant developers from alibaba microsoft jd pku just joined tron this week i will introduce them in the li\n",
      "rt thanks cnbc but we are not tiny digital coin and we will be huge soon with great decentralized blockchain technology\n",
      "rt google trends japan tron trx trx japanese are crazy about tron\n",
      "south korea expected to end anonymous crypto trading by january\n",
      "i found a photo of those evil chinese that support bitcoin cash that we keep hearing about\n",
      "rt and one for the xrp boys\n",
      "the current version of bitcoin cash can easily handle all of the bitcoin core and ethereum transactions combined\n"
     ]
    }
   ],
   "source": [
    "for i in json_data:\n",
    "    #print (i.keys())\n",
    "    i['title-text'] = clean_if(i['title-text'])\n",
    "    \n",
    "    print (i['title-text'])\n",
    "    \n"
   ]
  },
  {
   "cell_type": "code",
   "execution_count": null,
   "metadata": {
    "collapsed": true
   },
   "outputs": [],
   "source": []
  }
 ],
 "metadata": {
  "kernelspec": {
   "display_name": "Python 3",
   "language": "python",
   "name": "python3"
  },
  "language_info": {
   "codemirror_mode": {
    "name": "ipython",
    "version": 3
   },
   "file_extension": ".py",
   "mimetype": "text/x-python",
   "name": "python",
   "nbconvert_exporter": "python",
   "pygments_lexer": "ipython3",
   "version": "3.6.2"
  }
 },
 "nbformat": 4,
 "nbformat_minor": 2
}
