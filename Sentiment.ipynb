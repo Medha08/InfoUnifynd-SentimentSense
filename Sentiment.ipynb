{
 "cells": [
  {
   "cell_type": "code",
   "execution_count": 1,
   "metadata": {
    "collapsed": true
   },
   "outputs": [],
   "source": [
    "import numpy as np\n",
    "import pandas as pd"
   ]
  },
  {
   "cell_type": "code",
   "execution_count": 5,
   "metadata": {
    "collapsed": true
   },
   "outputs": [],
   "source": [
    "df = pd.read_csv('ua.csv')\n",
    "# print(df_bill)"
   ]
  },
  {
   "cell_type": "code",
   "execution_count": 6,
   "metadata": {},
   "outputs": [
    {
     "data": {
      "text/html": [
       "<div>\n",
       "<style>\n",
       "    .dataframe thead tr:only-child th {\n",
       "        text-align: right;\n",
       "    }\n",
       "\n",
       "    .dataframe thead th {\n",
       "        text-align: left;\n",
       "    }\n",
       "\n",
       "    .dataframe tbody tr th {\n",
       "        vertical-align: top;\n",
       "    }\n",
       "</style>\n",
       "<table border=\"1\" class=\"dataframe\">\n",
       "  <thead>\n",
       "    <tr style=\"text-align: right;\">\n",
       "      <th></th>\n",
       "      <th>2018-06-08 19:51:58</th>\n",
       "      <th>b'RT @Atlantisbluedt: TWITTER AIRDROP Happening Now!\\n\\nUP to a 25% bonus during Airdrop. \\nMore details on Telegram pinned post: \\nhttps://t.co/\\xe2\\x80\\xa6'</th>\n",
       "    </tr>\n",
       "  </thead>\n",
       "  <tbody>\n",
       "    <tr>\n",
       "      <th>0</th>\n",
       "      <td>2018-06-08 19:51:54</td>\n",
       "      <td>b'RT @Atlantisbluedt: TWITTER AIRDROP Happenin...</td>\n",
       "    </tr>\n",
       "    <tr>\n",
       "      <th>1</th>\n",
       "      <td>2018-06-08 19:51:54</td>\n",
       "      <td>b'RT @Payther_HQ: PAYTHER biggest Airdrop! \\xf...</td>\n",
       "    </tr>\n",
       "    <tr>\n",
       "      <th>2</th>\n",
       "      <td>2018-06-08 19:51:53</td>\n",
       "      <td>b'RT @RandolphMlny: #Bitcoin #Satoshi #Earn_Mo...</td>\n",
       "    </tr>\n",
       "    <tr>\n",
       "      <th>3</th>\n",
       "      <td>2018-06-08 19:51:46</td>\n",
       "      <td>b'RT @Atlantisbluedt: TWITTER AIRDROP Happenin...</td>\n",
       "    </tr>\n",
       "    <tr>\n",
       "      <th>4</th>\n",
       "      <td>2018-06-08 19:51:45</td>\n",
       "      <td>b'RT @GGlobal_Project: \\xe2\\x80\\xbc\\xef\\xb8\\x8...</td>\n",
       "    </tr>\n",
       "  </tbody>\n",
       "</table>\n",
       "</div>"
      ],
      "text/plain": [
       "   2018-06-08 19:51:58  \\\n",
       "0  2018-06-08 19:51:54   \n",
       "1  2018-06-08 19:51:54   \n",
       "2  2018-06-08 19:51:53   \n",
       "3  2018-06-08 19:51:46   \n",
       "4  2018-06-08 19:51:45   \n",
       "\n",
       "  b'RT @Atlantisbluedt: TWITTER AIRDROP Happening Now!\\n\\nUP to a 25% bonus during Airdrop. \\nMore details on Telegram pinned post: \\nhttps://t.co/\\xe2\\x80\\xa6'  \n",
       "0  b'RT @Atlantisbluedt: TWITTER AIRDROP Happenin...                                                                                                              \n",
       "1  b'RT @Payther_HQ: PAYTHER biggest Airdrop! \\xf...                                                                                                              \n",
       "2  b'RT @RandolphMlny: #Bitcoin #Satoshi #Earn_Mo...                                                                                                              \n",
       "3  b'RT @Atlantisbluedt: TWITTER AIRDROP Happenin...                                                                                                              \n",
       "4  b'RT @GGlobal_Project: \\xe2\\x80\\xbc\\xef\\xb8\\x8...                                                                                                              "
      ]
     },
     "execution_count": 6,
     "metadata": {},
     "output_type": "execute_result"
    }
   ],
   "source": [
    "df.head(5)"
   ]
  },
  {
   "cell_type": "code",
   "execution_count": 10,
   "metadata": {},
   "outputs": [
    {
     "name": "stdout",
     "output_type": "stream",
     "text": [
      "2018-06-08 19:51:58\n",
      "b'RT @Atlantisbluedt: TWITTER AIRDROP Happening Now!\\n\\nUP to a 25% bonus during Airdrop. \\nMore details on Telegram pinned post: \\nhttps://t.co/\\xe2\\x80\\xa6'\n"
     ]
    }
   ],
   "source": [
    "for tweet in df:\n",
    "    print(tweet)"
   ]
  },
  {
   "cell_type": "code",
   "execution_count": null,
   "metadata": {
    "collapsed": true
   },
   "outputs": [],
   "source": []
  }
 ],
 "metadata": {
  "kernelspec": {
   "display_name": "Python 3",
   "language": "python",
   "name": "python3"
  },
  "language_info": {
   "codemirror_mode": {
    "name": "ipython",
    "version": 3
   },
   "file_extension": ".py",
   "mimetype": "text/x-python",
   "name": "python",
   "nbconvert_exporter": "python",
   "pygments_lexer": "ipython3",
   "version": "3.6.2"
  }
 },
 "nbformat": 4,
 "nbformat_minor": 2
}
