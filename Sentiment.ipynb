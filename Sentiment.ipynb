{
 "cells": [
  {
   "cell_type": "code",
   "execution_count": 37,
   "metadata": {
    "collapsed": true
   },
   "outputs": [],
   "source": [
    "    import numpy as np\n",
    "    import pandas as pd\n",
    "    import tweepy\n",
    "    import csv\n",
    "    from datetime import date\n",
    "    import calendar\n",
    "    my_date = date.today()\n",
    "    import re"
   ]
  },
  {
   "cell_type": "code",
   "execution_count": 38,
   "metadata": {
    "collapsed": true
   },
   "outputs": [],
   "source": [
    "####input your credentials here\n",
    "consumer_key = 'mFE0Dl9pfPq7w2UEAC17Hwa3q'\n",
    "consumer_secret = 'yyXGtQ7xoWiiY0MdtEOHUWSm4F5z77mkZ8Zljpj4UoIdmUwvl6'\n",
    "access_token = '1005170408159473664-WWRYYruJqgAU0e6i5e1qgiqHz1zi3X'\n",
    "access_token_secret = 'wNfSYM35T1gzJv0jnz5nsDSuz1jSHCv6myK2b6Gtwu7mO'"
   ]
  },
  {
   "cell_type": "code",
   "execution_count": 39,
   "metadata": {
    "collapsed": true
   },
   "outputs": [],
   "source": [
    "auth = tweepy.OAuthHandler(consumer_key, consumer_secret)\n",
    "auth.set_access_token(access_token, access_token_secret)\n",
    "api = tweepy.API(auth,wait_on_rate_limit=True)\n",
    "#####United Airlines\n",
    "# Open/Create a file to append data\n",
    "try:\n",
    "    csvFile = open('ua.csv', 'a')\n",
    "    csvWriter = csv.writer(csvFile)\n",
    "except:\n",
    "    print(\"Could not load file\")"
   ]
  },
  {
   "cell_type": "code",
   "execution_count": 40,
   "metadata": {},
   "outputs": [
    {
     "name": "stdout",
     "output_type": "stream",
     "text": [
      "#Bitcoin #Cryptocurrency #Airdrop\n",
      "\n",
      "Sign Up to #HuobiPro, the Third Largest Cryptocurrency Exchange Worldwide,\n",
      "\n",
      "Earn… https://t.co/UZhdfnHo4V\n",
      "Putin: Cryptocurrency Has Its Place, No State Can Have Own Crypto https://t.co/BoubhBEsXC #Bitcoin https://t.co/E0qTNSX0oL\n"
     ]
    }
   ],
   "source": [
    "\n",
    "# try:\n",
    "status = tweepy.Cursor(api.search,q=\"#bitcoin\",lang=\"en\").items(5)\n",
    "\n",
    "# RT\n",
    "c=0\n",
    "for tweet in status:\n",
    "    text = tweet._json[\"text\"]\n",
    "    y = (my_date.weekday()-c)%7\n",
    "    csvWriter.writerow([calendar.day_name[y][0:3], tweet._json[\"user\"][\"name\"], text, tweet._json[\"user\"][\"followers_count\"], tweet._json[\"user\"][\"verified\"], tweet._json[\"retweet_count\"], tweet._json[\"favorite_count\"]])\n",
    "    c=c+1\n",
    "\n",
    "# AC\n",
    "c=0\n",
    "for tweet in tweepy.Cursor(api.search,q=\"#bitcoin\",lang=\"en\").items(5):\n",
    "    y = (my_date.weekday()-c)%7\n",
    "    if 'retweeted_status' in tweet._json.keys():\n",
    "        text = tweet._json[\"retweeted_status\"][\"text\"]\n",
    "        print(text)\n",
    "        csvWriter.writerow([calendar.day_name[y][0:3], tweet._json[\"retweeted_status\"][\"user\"][\"name\"], text, tweet._json[\"retweeted_status\"][\"user\"][\"followers_count\"], tweet._json[\"retweeted_status\"][\"user\"][\"verified\"], tweet._json[\"retweeted_status\"][\"retweet_count\"], tweet._json[\"retweeted_status\"][\"favorite_count\"]])\n",
    "    c=c+1\n",
    "\n",
    "# except:\n",
    "#     print(\"Failed to process\")\n",
    "# csvFile.close()\n"
   ]
  },
  {
   "cell_type": "code",
   "execution_count": 32,
   "metadata": {
    "collapsed": true
   },
   "outputs": [],
   "source": [
    "# df = pd.read_csv('ua.csv')\n",
    "# print(df_bill)"
   ]
  },
  {
   "cell_type": "code",
   "execution_count": 33,
   "metadata": {},
   "outputs": [
    {
     "ename": "NameError",
     "evalue": "name 'df' is not defined",
     "output_type": "error",
     "traceback": [
      "\u001b[0;31m---------------------------------------------------------------------------\u001b[0m",
      "\u001b[0;31mNameError\u001b[0m                                 Traceback (most recent call last)",
      "\u001b[0;32m<ipython-input-33-c8c7f0e94dd9>\u001b[0m in \u001b[0;36m<module>\u001b[0;34m()\u001b[0m\n\u001b[0;32m----> 1\u001b[0;31m \u001b[0mdf\u001b[0m\u001b[0;34m.\u001b[0m\u001b[0mhead\u001b[0m\u001b[0;34m(\u001b[0m\u001b[0;36m5\u001b[0m\u001b[0;34m)\u001b[0m\u001b[0;34m\u001b[0m\u001b[0m\n\u001b[0m",
      "\u001b[0;31mNameError\u001b[0m: name 'df' is not defined"
     ]
    }
   ],
   "source": [
    "df.head(5)"
   ]
  },
  {
   "cell_type": "code",
   "execution_count": null,
   "metadata": {
    "collapsed": true
   },
   "outputs": [],
   "source": [
    "\n",
    "\n",
    "for idx, tweet in df.iterrows():\n",
    "#     print(tweet[1][\"text\"])\n",
    "    text = tweet[\"text\"]\n",
    "    text = re.sub(r'@\\S+|https?://\\S+', '', text)\n",
    "    cleaned = \"\".join(re.findall('[A-Z][^A-Z]*', text))\n",
    "    tweet = ' '.join(re.sub(\"(@[A-Za-z0-9]+)|([^0-9A-Za-z \\t])|(\\w+:\\/\\/\\S+)\",\" \",cleaned).split())\n",
    "    print(tweet)\n",
    "    df.set_value(idx, \"text\", tweet)\n",
    "\n",
    "df.to_csv(\"Data_Set.csv\")"
   ]
  },
  {
   "cell_type": "code",
   "execution_count": null,
   "metadata": {
    "collapsed": true
   },
   "outputs": [],
   "source": []
  },
  {
   "cell_type": "code",
   "execution_count": null,
   "metadata": {
    "collapsed": true
   },
   "outputs": [],
   "source": []
  },
  {
   "cell_type": "code",
   "execution_count": null,
   "metadata": {
    "collapsed": true
   },
   "outputs": [],
   "source": []
  },
  {
   "cell_type": "code",
   "execution_count": null,
   "metadata": {
    "collapsed": true
   },
   "outputs": [],
   "source": []
  }
 ],
 "metadata": {
  "kernelspec": {
   "display_name": "Python 3",
   "language": "python",
   "name": "python3"
  },
  "language_info": {
   "codemirror_mode": {
    "name": "ipython",
    "version": 3
   },
   "file_extension": ".py",
   "mimetype": "text/x-python",
   "name": "python",
   "nbconvert_exporter": "python",
   "pygments_lexer": "ipython3",
   "version": "3.6.2"
  }
 },
 "nbformat": 4,
 "nbformat_minor": 2
}
