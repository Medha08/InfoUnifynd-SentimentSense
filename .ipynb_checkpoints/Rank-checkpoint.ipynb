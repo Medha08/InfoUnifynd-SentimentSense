{
 "cells": [
  {
   "cell_type": "code",
   "execution_count": 1,
   "metadata": {
    "collapsed": true
   },
   "outputs": [],
   "source": [
    "import numpy as np\n",
    "\n",
    "import pandas as pd\n",
    "from textblob import TextBlob\n",
    "\n",
    "import csv\n",
    "import requests\n",
    "import json\n",
    "from datetime import date\n",
    "import calendar\n",
    "my_date = date.today()"
   ]
  },
  {
   "cell_type": "code",
   "execution_count": 2,
   "metadata": {
    "collapsed": true
   },
   "outputs": [],
   "source": [
    "from sklearn.preprocessing import MinMaxScaler"
   ]
  },
  {
   "cell_type": "code",
   "execution_count": 3,
   "metadata": {
    "collapsed": true
   },
   "outputs": [],
   "source": [
    "url = 'https://rest.coinapi.io/v1/ohlcv/BITSTAMP_SPOT_BTC_USD/latest?period_id=1DAY&limit=7'\n",
    "headers = {'X-CoinAPI-Key' : 'B1F03F85-01B1-408C-A128-F39602EEB90D'}\n",
    "response = requests.get(url, headers=headers)\n",
    "\n",
    "text_parsed = json.loads(response.text)"
   ]
  },
  {
   "cell_type": "code",
   "execution_count": 5,
   "metadata": {},
   "outputs": [
    {
     "name": "stdout",
     "output_type": "stream",
     "text": [
      "[{'time_period_start': '2018-06-10T00:00:00.0000000Z', 'time_period_end': '2018-06-11T00:00:00.0000000Z', 'time_open': '2018-06-10T00:00:09.0000000Z', 'time_close': '2018-06-10T02:59:13.0000000Z', 'price_open': 7498.0, 'price_high': 7498.0, 'price_low': 7270.0, 'price_close': 7328.05, 'volume_traded': 1656.054013388, 'trades_count': 6813}, {'time_period_start': '2018-06-09T00:00:00.0000000Z', 'time_period_end': '2018-06-10T00:00:00.0000000Z', 'time_open': '2018-06-09T00:00:01.0000000Z', 'time_close': '2018-06-09T23:59:56.0000000Z', 'price_open': 7618.11, 'price_high': 7686.45, 'price_low': 7468.31, 'price_close': 7492.7, 'volume_traded': 2713.781045105, 'trades_count': 10538}, {'time_period_start': '2018-06-08T00:00:00.0000000Z', 'time_period_end': '2018-06-09T00:00:00.0000000Z', 'time_open': '2018-06-08T00:00:06.0000000Z', 'time_close': '2018-06-08T23:59:55.0000000Z', 'price_open': 7676.41, 'price_high': 7697.0, 'price_low': 7542.0, 'price_close': 7618.11, 'volume_traded': 4676.558327762, 'trades_count': 24512}, {'time_period_start': '2018-06-07T00:00:00.0000000Z', 'time_period_end': '2018-06-08T00:00:00.0000000Z', 'time_open': '2018-06-07T00:00:18.0000000Z', 'time_close': '2018-06-07T23:59:54.0000000Z', 'price_open': 7658.99, 'price_high': 7750.0, 'price_low': 7618.99, 'price_close': 7689.28, 'volume_traded': 7545.009250643, 'trades_count': 29960}, {'time_period_start': '2018-06-06T00:00:00.0000000Z', 'time_period_end': '2018-06-07T00:00:00.0000000Z', 'time_open': '2018-06-06T00:00:03.0000000Z', 'time_close': '2018-06-06T23:59:57.0000000Z', 'price_open': 7617.98, 'price_high': 7695.46, 'price_low': 7482.61, 'price_close': 7658.57, 'volume_traded': 7058.055772297, 'trades_count': 28253}, {'time_period_start': '2018-06-05T00:00:00.0000000Z', 'time_period_end': '2018-06-06T00:00:00.0000000Z', 'time_open': '2018-06-05T00:00:05.0000000Z', 'time_close': '2018-06-05T23:59:55.0000000Z', 'price_open': 7494.99, 'price_high': 7685.0, 'price_low': 7360.0, 'price_close': 7617.98, 'volume_traded': 9965.884682141, 'trades_count': 33711}, {'time_period_start': '2018-06-04T00:00:00.0000000Z', 'time_period_end': '2018-06-05T00:00:00.0000000Z', 'time_open': '2018-06-04T00:00:03.0000000Z', 'time_close': '2018-06-04T23:59:54.0000000Z', 'price_open': 7712.97, 'price_high': 7764.44, 'price_low': 7449.68, 'price_close': 7488.26, 'volume_traded': 6990.324573238, 'trades_count': 31074}]\n"
     ]
    }
   ],
   "source": [
    "print(text_parsed)"
   ]
  },
  {
   "cell_type": "code",
   "execution_count": 6,
   "metadata": {
    "collapsed": true
   },
   "outputs": [],
   "source": [
    "c=0"
   ]
  },
  {
   "cell_type": "code",
   "execution_count": 7,
   "metadata": {
    "collapsed": true
   },
   "outputs": [],
   "source": [
    "with open('test.csv', 'w', newline='') as csvfile:\n",
    "    fieldnames = [\"Date\", \"OpenPrice\", \"ClosePrice\", \"Difference\"]\n",
    "    writer = csv.DictWriter(csvfile, fieldnames=fieldnames)\n",
    "    writer.writeheader()\n",
    "\n",
    "    for x in text_parsed:\n",
    "        try:\n",
    "            y = (my_date.weekday()-c)%7\n",
    "            writer.writerow({'Date': calendar.day_name[y][0:3], 'OpenPrice': x['price_open'],'ClosePrice':x['price_close'],'Difference':x['price_open']-x['price_close']})\n",
    "            c= c+1\n",
    "        except:\n",
    "            y=1\n",
    "            writer.writerow({'Date': calendar.day_name[y][0:3], 'OpenPrice': x['price_open'],'ClosePrice':x['price_close'],'Difference':x['price_open']-x['price_close']})\n",
    "            c= c+1"
   ]
  },
  {
   "cell_type": "code",
   "execution_count": 12,
   "metadata": {
    "collapsed": true
   },
   "outputs": [],
   "source": [
    "def find_Sentiment(filename = \"Data_Set.csv\"):\n",
    "    df = pd.read_csv(filename)\n",
    "    df.head(3)"
   ]
  },
  {
   "cell_type": "code",
   "execution_count": 14,
   "metadata": {},
   "outputs": [],
   "source": [
    "find_Sentiment()"
   ]
  },
  {
   "cell_type": "code",
   "execution_count": null,
   "metadata": {
    "collapsed": true
   },
   "outputs": [],
   "source": []
  }
 ],
 "metadata": {
  "kernelspec": {
   "display_name": "Python 3",
   "language": "python",
   "name": "python3"
  },
  "language_info": {
   "codemirror_mode": {
    "name": "ipython",
    "version": 3
   },
   "file_extension": ".py",
   "mimetype": "text/x-python",
   "name": "python",
   "nbconvert_exporter": "python",
   "pygments_lexer": "ipython3",
   "version": "3.6.2"
  }
 },
 "nbformat": 4,
 "nbformat_minor": 2
}
