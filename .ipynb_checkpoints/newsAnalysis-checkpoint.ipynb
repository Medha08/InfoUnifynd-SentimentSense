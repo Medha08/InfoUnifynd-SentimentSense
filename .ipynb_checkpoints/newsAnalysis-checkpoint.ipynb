{
 "cells": [
  {
   "cell_type": "code",
   "execution_count": 9,
   "metadata": {
    "collapsed": true
   },
   "outputs": [],
   "source": [
    "import requests\n",
    "import re\n",
    "import numpy as np\n",
    "\n",
    "import pandas as pd\n",
    "from textblob import TextBlob\n",
    "import json\n",
    "import csv\n",
    "from datetime import date\n",
    "import calendar\n",
    "my_date = date.today()\n"
   ]
  },
  {
   "cell_type": "code",
   "execution_count": 2,
   "metadata": {
    "collapsed": true
   },
   "outputs": [],
   "source": [
    "r = requests.get('https://newsapi.org/v2/top-headlines?q=bitcoin&sources=crypto-coins-news&apiKey=c7f7fc0490074243888cc544008bff3e')\n",
    "\n",
    "# print(type(r.json()))\n",
    "jsonData  = r.json()\n",
    "newsData = []"
   ]
  },
  {
   "cell_type": "code",
   "execution_count": 3,
   "metadata": {
    "collapsed": true
   },
   "outputs": [],
   "source": [
    "for i in jsonData['articles']:\n",
    "    news = {}\n",
    "    news[\"created_at\"] = i[\"publishedAt\"]\n",
    "    text = re.sub(r'@\\S+|https?://\\S+', '', i[\"description\"])\n",
    "    cleaned = \"\".join(re.findall('[A-Z][^A-Z]*', text))\n",
    "    tweet = ' '.join(re.sub(\"(@[A-Za-z0-9]+)|([^0-9A-Za-z \\t])|(\\w+:\\/\\/\\S+)\",\" \",cleaned).split())\n",
    "    news[\"description\"] = tweet\n",
    "    newsData.append(news)"
   ]
  },
  {
   "cell_type": "code",
   "execution_count": 13,
   "metadata": {},
   "outputs": [
    {
     "name": "stdout",
     "output_type": "stream",
     "text": [
      "   created_at                                        description\n",
      "0         Wed  Testing for Ethereum's Coming Consensus Change...\n",
      "1         Wed  The cofounder of hedge fund giant Two Sigma is...\n",
      "2         Wed  Speaking of the devil, that’s definitely one o...\n",
      "3         Tue  VanEck and SolidX, two prominent firms in the ...\n",
      "4         Tue  The Enforcement Directorate had, in April, arr...\n",
      "5         Tue  Bitcoin bubble or boost: $30,000 – Bitcoin pri...\n",
      "6         Tue  ailed Breakout Revives Bitcoin's Bull-Bear Tug...\n",
      "7         Tue  CNBC: Google Searches for Bitcoin Down 75% Sin...\n",
      "8         Tue   Russian Court Overturns Cryptocurrency Media Ban\n",
      "9         Thu  The firm is opening trading to a small group o...\n",
      "10        Thu  42.8% of cryptocurrency investors intend to ‘h...\n",
      "11        Thu     Bullish Signals Hint at Bitcoin Price Breakout\n",
      "12        Thu  Jamie Dimon’s Latest Bitcoin Advice: ‘Just Bew...\n",
      "13        Thu  NYDFS Chief Defends State Regulator's Crypto A...\n",
      "14        Thu  Crypto market overview: Bitcoin, Ethereum, and...\n",
      "15        Sun  lchemint Aims to Issue a Stablecoin on the NEO...\n",
      "16        Sun  Upcoming Cryptocurrency Trials Trio of Tech Ad...\n",
      "17        Sun  Bitcoin Cash Price: Push to $1,150 is in Full ...\n",
      "18        Sat  90 percent of Bitcoin Cash holdings are held a...\n",
      "19        Sat  Weiss Ratings claims EOS, the fifth largest cr...\n",
      "20        Sat  How Blockchain Can Finally Fulfill a Global Pr...\n",
      "21        Mon   Bitcoin’s Low Volume Breakout May Be a Bull Trap\n",
      "22        Mon  Crypto and Twitter: A Toxic Combination, a Tro...\n",
      "23        Mon  Understanding the critical importance of prope...\n",
      "24        Mon  Bitcoin Price Watch: Currency Holds Ground at ...\n",
      "25        Fri  New Developments That Could See Bitcoin Cash S...\n",
      "26        Fri  Study Finds 90% of Bitcoin Cash Held for Inves...\n",
      "27        Fri  Though small, the currency has ultimately fail...\n",
      "28        Fri  Regulatory developments involving cryptocurren...\n",
      "29        Fri  A lot of positive things are taking place in t...\n",
      "..        ...                                                ...\n",
      "32        Fri  Measuring The True Impact Of India’s Cryptocur...\n",
      "33        Sat  Bart Smith who has been crowned Wall Street s ...\n",
      "34        Sat  The billionaire CEO of Nowegian Airlines has l...\n",
      "35        Sat  Bitmain CEO Jihan Wu has denied reports that t...\n",
      "36        Sat  Enterprise blockchain startup R3 is burning th...\n",
      "37        Sat  Bitcoin price has bottomed and will rise over ...\n",
      "38        Sat  Get exclusive analysis and cryptocurrency insi...\n",
      "39        Sat  Get exclusive analysis and cryptocurrency insi...\n",
      "40        Sat  Mike Novogratz a billionaire investor and form...\n",
      "41        Sat  Litecoin cash has become the latest cryptocurr...\n",
      "42        Sat  A mysterious Asian whale accumulated more than...\n",
      "43        Thu  VIETNAM STRUGGLES TO GET A HANDLE ON CRYPTOCUR...\n",
      "44        Thu  Binance Leads $12 Million Investment In AngelL...\n",
      "45        Wed  German Banks Trade Cryptos, US Universities In...\n",
      "46        Thu  RUSSIA: CRYPTOCURRENCY USERS MUST CALCULATE OW...\n",
      "47        Sun  Bitcoin Cash Price: Push to $1,150 is in Full ...\n",
      "48        Thu  Blockchain's Once-Feared 51% Attack Is Now Bec...\n",
      "49        Sun  Bitcoin (BTC) will surpass $15,000 in June, bu...\n",
      "50        Sun  Bitcoin's Chance at the $20 Trillion Offshore ...\n",
      "51        Wed  Bitfinex, A Hong Kong-based crypto exchange br...\n",
      "52        Tue  CBI inspector moved to Shillong for duration o...\n",
      "53        Sun  Hackers prove how powerful computers can cheat...\n",
      "54        Sun  CREDITS offers a blockchain solution for human...\n",
      "55        Sun  Blockchain-Based Video-On-Demand Platform Aims...\n",
      "56        Sun  Accused in bitcoin case sent to police custody...\n",
      "57        Wed  Brad Garlinghouse, Chief Executive Officer of ...\n",
      "58        Wed  Shilpa Shetty Kundra’s husband Raj Kindra gril...\n",
      "59        Wed  The U.S. government telecom agency has called ...\n",
      "60        Mon    Fundstrat Analyst Claims Bitcoin’s Bottom Is In\n",
      "61        Mon  Cryptocurrency Hedge Funds Invest in Zilliqa, ...\n",
      "\n",
      "[62 rows x 2 columns]\n"
     ]
    }
   ],
   "source": [
    "newsData = pd.read_csv('News_SA.csv')\n",
    "# print(newsData)\n",
    "sentiment_df = []\n",
    "def find_Sentiment():\n",
    "    \n",
    "    c=0\n",
    "    for idx, obj in newsData.iterrows():\n",
    "        temp = []\n",
    "#         print(obj[\"description\"])\n",
    "#         print(\"\\n\\n\")\n",
    "        analysis = TextBlob(obj[\"description\"])\n",
    "        y = (my_date.weekday()-c)%7\n",
    "        \n",
    "        day = calendar.day_name[y][0:3]\n",
    "        temp.append(day)\n",
    "        temp.append(obj[\"description\"])\n",
    "        temp.append(analysis.sentiment.polarity)\n",
    "#         print (temp)\n",
    "        sentiment_df.append(temp)\n",
    "    print(sentiment_df)\n",
    "        "
   ]
  },
  {
   "cell_type": "code",
   "execution_count": 14,
   "metadata": {},
   "outputs": [
    {
     "ename": "TypeError",
     "evalue": "tuple indices must be integers or slices, not str",
     "output_type": "error",
     "traceback": [
      "\u001b[0;31m---------------------------------------------------------------------------\u001b[0m",
      "\u001b[0;31mTypeError\u001b[0m                                 Traceback (most recent call last)",
      "\u001b[0;32m<ipython-input-14-372da49b91c0>\u001b[0m in \u001b[0;36m<module>\u001b[0;34m()\u001b[0m\n\u001b[0;32m----> 1\u001b[0;31m \u001b[0mfind_Sentiment\u001b[0m\u001b[0;34m(\u001b[0m\u001b[0;34m)\u001b[0m\u001b[0;34m\u001b[0m\u001b[0m\n\u001b[0m",
      "\u001b[0;32m<ipython-input-13-07aefa1e5585>\u001b[0m in \u001b[0;36mfind_Sentiment\u001b[0;34m()\u001b[0m\n\u001b[1;32m      9\u001b[0m \u001b[0;31m#         print(obj[\"description\"])\u001b[0m\u001b[0;34m\u001b[0m\u001b[0;34m\u001b[0m\u001b[0m\n\u001b[1;32m     10\u001b[0m \u001b[0;31m#         print(\"\\n\\n\")\u001b[0m\u001b[0;34m\u001b[0m\u001b[0;34m\u001b[0m\u001b[0m\n\u001b[0;32m---> 11\u001b[0;31m         \u001b[0manalysis\u001b[0m \u001b[0;34m=\u001b[0m \u001b[0mTextBlob\u001b[0m\u001b[0;34m(\u001b[0m\u001b[0mobj\u001b[0m\u001b[0;34m[\u001b[0m\u001b[0;34m\"description\"\u001b[0m\u001b[0;34m]\u001b[0m\u001b[0;34m)\u001b[0m\u001b[0;34m\u001b[0m\u001b[0m\n\u001b[0m\u001b[1;32m     12\u001b[0m         \u001b[0my\u001b[0m \u001b[0;34m=\u001b[0m \u001b[0;34m(\u001b[0m\u001b[0mmy_date\u001b[0m\u001b[0;34m.\u001b[0m\u001b[0mweekday\u001b[0m\u001b[0;34m(\u001b[0m\u001b[0;34m)\u001b[0m\u001b[0;34m-\u001b[0m\u001b[0mc\u001b[0m\u001b[0;34m)\u001b[0m\u001b[0;34m%\u001b[0m\u001b[0;36m7\u001b[0m\u001b[0;34m\u001b[0m\u001b[0m\n\u001b[1;32m     13\u001b[0m \u001b[0;34m\u001b[0m\u001b[0m\n",
      "\u001b[0;31mTypeError\u001b[0m: tuple indices must be integers or slices, not str"
     ]
    }
   ],
   "source": [
    "find_Sentiment()"
   ]
  },
  {
   "cell_type": "code",
   "execution_count": 51,
   "metadata": {
    "collapsed": true
   },
   "outputs": [],
   "source": [
    "# sentiment_df.to_csv(\"News_SA.csv\")\n",
    "with open(\"News_SA.csv\", 'w') as myfile:\n",
    "    for obj in sentiment_df:\n",
    "        wr = csv.writer(myfile, quoting=csv.QUOTE_ALL)\n",
    "        wr.writerow(obj)"
   ]
  },
  {
   "cell_type": "code",
   "execution_count": 8,
   "metadata": {},
   "outputs": [
    {
     "ename": "SyntaxError",
     "evalue": "invalid syntax (<ipython-input-8-12d7dd06dcdf>, line 1)",
     "output_type": "error",
     "traceback": [
      "\u001b[0;36m  File \u001b[0;32m\"<ipython-input-8-12d7dd06dcdf>\"\u001b[0;36m, line \u001b[0;32m1\u001b[0m\n\u001b[0;31m    from crypto-news-api import CryptoControlApi\u001b[0m\n\u001b[0m               ^\u001b[0m\n\u001b[0;31mSyntaxError\u001b[0m\u001b[0;31m:\u001b[0m invalid syntax\n"
     ]
    }
   ],
   "source": [
    "from crypto-news-api import CryptoControlApi \n",
    "\n",
    "const Api = new CryptoControlApi('c1aa1e963a46da33d9889161fc85ddf3')\n",
    "\n",
    "Api.getTopNews()\n",
    "    .then(articles => print(articles))\n",
    "    .catch(error => console.error(error))"
   ]
  },
  {
   "cell_type": "code",
   "execution_count": null,
   "metadata": {
    "collapsed": true
   },
   "outputs": [],
   "source": []
  }
 ],
 "metadata": {
  "kernelspec": {
   "display_name": "Python 3",
   "language": "python",
   "name": "python3"
  },
  "language_info": {
   "codemirror_mode": {
    "name": "ipython",
    "version": 3
   },
   "file_extension": ".py",
   "mimetype": "text/x-python",
   "name": "python",
   "nbconvert_exporter": "python",
   "pygments_lexer": "ipython3",
   "version": "3.6.2"
  }
 },
 "nbformat": 4,
 "nbformat_minor": 2
}
