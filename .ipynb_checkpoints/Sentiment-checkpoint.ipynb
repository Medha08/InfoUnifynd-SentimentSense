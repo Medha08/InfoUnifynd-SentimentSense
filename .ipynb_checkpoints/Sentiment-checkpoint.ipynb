{
 "cells": [
  {
   "cell_type": "code",
   "execution_count": 167,
   "metadata": {
    "collapsed": true
   },
   "outputs": [],
   "source": [
    "import numpy as np\n",
    "import pandas as pd\n",
    "import tweepy\n",
    "import csv\n",
    "from datetime import date\n",
    "import calendar\n",
    "my_date = date.today()"
   ]
  },
  {
   "cell_type": "code",
   "execution_count": 168,
   "metadata": {
    "collapsed": true
   },
   "outputs": [],
   "source": [
    "####input your credentials here\n",
    "consumer_key = 'mFE0Dl9pfPq7w2UEAC17Hwa3q'\n",
    "consumer_secret = 'yyXGtQ7xoWiiY0MdtEOHUWSm4F5z77mkZ8Zljpj4UoIdmUwvl6'\n",
    "access_token = '1005170408159473664-WWRYYruJqgAU0e6i5e1qgiqHz1zi3X'\n",
    "access_token_secret = 'wNfSYM35T1gzJv0jnz5nsDSuz1jSHCv6myK2b6Gtwu7mO'"
   ]
  },
  {
   "cell_type": "code",
   "execution_count": 173,
   "metadata": {},
   "outputs": [],
   "source": [
    "auth = tweepy.OAuthHandler(consumer_key, consumer_secret)\n",
    "auth.set_access_token(access_token, access_token_secret)\n",
    "api = tweepy.API(auth,wait_on_rate_limit=True)\n",
    "#####United Airlines\n",
    "# Open/Create a file to append data\n",
    "csvFile = open('ua.csv', 'a')\n",
    "#Use csv Writer\n",
    "csvWriter = csv.writer(csvFile)"
   ]
  },
  {
   "cell_type": "code",
   "execution_count": 174,
   "metadata": {},
   "outputs": [
    {
     "name": "stdout",
     "output_type": "stream",
     "text": [
      "JIMOH DIYA\n",
      "Sat\n",
      "@germiyanman\n",
      "Fri\n",
      "JericTen ⚡❤\n",
      "Thu\n",
      "Ohio Bitcoin\n",
      "Wed\n",
      "RacingTrader77\n",
      "Tue\n",
      "Marry Sueberg\n",
      "Mon\n",
      "BitcoinJake09\n",
      "Sun\n",
      "Cameron Merkel\n",
      "Sat\n",
      "JericTen ⚡❤\n",
      "Fri\n",
      "Mike\n",
      "Thu\n"
     ]
    }
   ],
   "source": [
    "# searched_tweets = [status for status in tweepy.Cursor(api.search, q='#Crypto').items(10)]\n",
    "# print(searched_tweets)\n",
    "# for tweet in searched_tweets:\n",
    "#     print(tweet._json[\"user\"][\"name\"].encode('utf-8'))\n",
    "#     csvWriter.writerow()\n",
    "c=0\n",
    "status = tweepy.Cursor(api.search,q=\"#bitcoin\",lang=\"en\").items(10)\n",
    "# print(status)\n",
    "for tweet in status:\n",
    "#     print(\"here\")\n",
    "    y = (my_date.weekday()-c)%7\n",
    "    print(y)\n",
    "    print(tweet._json[\"user\"][\"name\"])\n",
    "    print(calendar.day_name[y][0:3])\n",
    "    csvWriter.writerow([calendar.day_name[y][0:3], tweet._json[\"user\"][\"name\"], tweet._json[\"text\"], tweet._json[\"user\"][\"followers_count\"], tweet._json[\"user\"][\"verified\"], tweet._json[\"retweet_count\"], tweet._json[\"favorite_count\"]])\n",
    "    c=c+1\n",
    "# csvFile.close()\n"
   ]
  },
  {
   "cell_type": "code",
   "execution_count": 178,
   "metadata": {},
   "outputs": [],
   "source": [
    "df = pd.read_csv('ua.csv')\n",
    "# print(df_bill)"
   ]
  },
  {
   "cell_type": "code",
   "execution_count": 179,
   "metadata": {},
   "outputs": [
    {
     "data": {
      "text/html": [
       "<div>\n",
       "<style>\n",
       "    .dataframe thead tr:only-child th {\n",
       "        text-align: right;\n",
       "    }\n",
       "\n",
       "    .dataframe thead th {\n",
       "        text-align: left;\n",
       "    }\n",
       "\n",
       "    .dataframe tbody tr th {\n",
       "        vertical-align: top;\n",
       "    }\n",
       "</style>\n",
       "<table border=\"1\" class=\"dataframe\">\n",
       "  <thead>\n",
       "    <tr style=\"text-align: right;\">\n",
       "      <th></th>\n",
       "      <th>created_at</th>\n",
       "      <th>name</th>\n",
       "      <th>text</th>\n",
       "      <th>followers_count</th>\n",
       "      <th>verified</th>\n",
       "      <th>retweet_count</th>\n",
       "      <th>favorite_count</th>\n",
       "    </tr>\n",
       "  </thead>\n",
       "  <tbody>\n",
       "    <tr>\n",
       "      <th>0</th>\n",
       "      <td>2018-06-09 01:44:19</td>\n",
       "      <td>Devlinstorm</td>\n",
       "      <td>@InsuraBit will be attending https://t.co/hR4C...</td>\n",
       "      <td>32</td>\n",
       "      <td>False</td>\n",
       "      <td>0</td>\n",
       "      <td>0</td>\n",
       "    </tr>\n",
       "    <tr>\n",
       "      <th>1</th>\n",
       "      <td>2018-06-09 01:44:19</td>\n",
       "      <td>Alex Destruction</td>\n",
       "      <td>RT @qurrex: The Beta version of Qurrex amazing...</td>\n",
       "      <td>16795</td>\n",
       "      <td>False</td>\n",
       "      <td>180</td>\n",
       "      <td>0</td>\n",
       "    </tr>\n",
       "    <tr>\n",
       "      <th>2</th>\n",
       "      <td>2018-06-09 01:44:15</td>\n",
       "      <td>BitcoinsChannel</td>\n",
       "      <td>Cryptocurrency Scams Becoming More Frequent in...</td>\n",
       "      <td>6805</td>\n",
       "      <td>False</td>\n",
       "      <td>0</td>\n",
       "      <td>0</td>\n",
       "    </tr>\n",
       "    <tr>\n",
       "      <th>3</th>\n",
       "      <td>2018-06-09 01:44:11</td>\n",
       "      <td>thanhntt</td>\n",
       "      <td>RT @0xgang: Get More Tokens: Send a minimum of...</td>\n",
       "      <td>35</td>\n",
       "      <td>False</td>\n",
       "      <td>2319</td>\n",
       "      <td>0</td>\n",
       "    </tr>\n",
       "    <tr>\n",
       "      <th>4</th>\n",
       "      <td>2018-06-09 01:44:10</td>\n",
       "      <td>Joël de Tombe</td>\n",
       "      <td>RT @ArminVanBitcoin: Annual Economic Costs:\\n\\...</td>\n",
       "      <td>2826</td>\n",
       "      <td>False</td>\n",
       "      <td>833</td>\n",
       "      <td>0</td>\n",
       "    </tr>\n",
       "  </tbody>\n",
       "</table>\n",
       "</div>"
      ],
      "text/plain": [
       "            created_at              name  \\\n",
       "0  2018-06-09 01:44:19       Devlinstorm   \n",
       "1  2018-06-09 01:44:19  Alex Destruction   \n",
       "2  2018-06-09 01:44:15   BitcoinsChannel   \n",
       "3  2018-06-09 01:44:11          thanhntt   \n",
       "4  2018-06-09 01:44:10     Joël de Tombe   \n",
       "\n",
       "                                                text  followers_count  \\\n",
       "0  @InsuraBit will be attending https://t.co/hR4C...               32   \n",
       "1  RT @qurrex: The Beta version of Qurrex amazing...            16795   \n",
       "2  Cryptocurrency Scams Becoming More Frequent in...             6805   \n",
       "3  RT @0xgang: Get More Tokens: Send a minimum of...               35   \n",
       "4  RT @ArminVanBitcoin: Annual Economic Costs:\\n\\...             2826   \n",
       "\n",
       "   verified  retweet_count  favorite_count  \n",
       "0     False              0               0  \n",
       "1     False            180               0  \n",
       "2     False              0               0  \n",
       "3     False           2319               0  \n",
       "4     False            833               0  "
      ]
     },
     "execution_count": 179,
     "metadata": {},
     "output_type": "execute_result"
    }
   ],
   "source": [
    "df.head(5)"
   ]
  },
  {
   "cell_type": "code",
   "execution_count": null,
   "metadata": {},
   "outputs": [],
   "source": [
    "for tweet in df:\n",
    "    print(tweet)"
   ]
  },
  {
   "cell_type": "code",
   "execution_count": null,
   "metadata": {
    "collapsed": true
   },
   "outputs": [],
   "source": []
  },
  {
   "cell_type": "code",
   "execution_count": null,
   "metadata": {
    "collapsed": true
   },
   "outputs": [],
   "source": []
  },
  {
   "cell_type": "code",
   "execution_count": null,
   "metadata": {
    "collapsed": true
   },
   "outputs": [],
   "source": []
  },
  {
   "cell_type": "code",
   "execution_count": null,
   "metadata": {
    "collapsed": true
   },
   "outputs": [],
   "source": []
  }
 ],
 "metadata": {
  "kernelspec": {
   "display_name": "Python 3",
   "language": "python",
   "name": "python3"
  },
  "language_info": {
   "codemirror_mode": {
    "name": "ipython",
    "version": 3
   },
   "file_extension": ".py",
   "mimetype": "text/x-python",
   "name": "python",
   "nbconvert_exporter": "python",
   "pygments_lexer": "ipython3",
   "version": "3.6.2"
  }
 },
 "nbformat": 4,
 "nbformat_minor": 2
}
