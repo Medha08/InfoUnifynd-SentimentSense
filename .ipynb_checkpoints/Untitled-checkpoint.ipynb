{
 "cells": [
  {
   "cell_type": "code",
   "execution_count": 1,
   "metadata": {
    "collapsed": true
   },
   "outputs": [],
   "source": [
    "import requests\n",
    "import re\n",
    "import numpy as np\n",
    "\n",
    "import pandas as pd\n",
    "from textblob import TextBlob\n",
    "import json"
   ]
  },
  {
   "cell_type": "code",
   "execution_count": 5,
   "metadata": {
    "collapsed": true
   },
   "outputs": [],
   "source": [
    "r = requests.get('https://newsapi.org/v2/top-headlines?sources=crypto-coins-news&apiKey=c7f7fc0490074243888cc544008bff3e')\n",
    "\n",
    "# print(type(r.json()))\n",
    "jsonData  = r.json()\n",
    "newsData = []"
   ]
  },
  {
   "cell_type": "code",
   "execution_count": 6,
   "metadata": {
    "collapsed": true
   },
   "outputs": [],
   "source": [
    "for i in jsonData['articles']:\n",
    "    news = {}\n",
    "    news[\"created_at\"] = i[\"publishedAt\"]\n",
    "    text = re.sub(r'@\\S+|https?://\\S+', '', i[\"description\"])\n",
    "    cleaned = \"\".join(re.findall('[A-Z][^A-Z]*', text))\n",
    "    tweet = ' '.join(re.sub(\"(@[A-Za-z0-9]+)|([^0-9A-Za-z \\t])|(\\w+:\\/\\/\\S+)\",\" \",cleaned).split())\n",
    "    news[\"description\"] = tweet\n",
    "    newsData.append(news)"
   ]
  },
  {
   "cell_type": "code",
   "execution_count": 25,
   "metadata": {
    "collapsed": true
   },
   "outputs": [],
   "source": [
    "def find_Sentiment():\n",
    "    sentiment_df = []\n",
    "#     print(newsData)\n",
    "    for obj in newsData:\n",
    "        temp = []\n",
    "#         print(obj[\"description\"])\n",
    "#         print(\"\\n\\n\")\n",
    "        analysis = TextBlob(obj[\"description\"])\n",
    "        "
   ]
  },
  {
   "cell_type": "code",
   "execution_count": 26,
   "metadata": {},
   "outputs": [
    {
     "name": "stdout",
     "output_type": "stream",
     "text": [
      "Bart Smith who has been crowned Wall Street s Crypto King by CNBC says institutional investors will jump into bitcoin once there is regulatory clarity\n",
      "\n",
      "\n",
      "\n",
      "The billionaire CEO of Nowegian Airlines has launched a cryptocurrency exchange and his airline may begin accepting cryptocurrency payments\n",
      "\n",
      "\n",
      "\n",
      "Bitmain CEO Jihan Wu has denied reports that the China based firm which controls 80 of the ASIC market has a secret cryptocurrency mining operation\n",
      "\n",
      "\n",
      "\n",
      "Enterprise blockchain startup R3 is burning through cash at a breakneck pace and could be out of money by the first quarter of 2019\n",
      "\n",
      "\n",
      "\n",
      "Bitcoin price has bottomed and will rise over the next few days says Robert Sluymer head of technical strategy at Fundstrat\n",
      "\n",
      "\n",
      "\n",
      "Get exclusive analysis and cryptocurrency insights on Hacked com for just 39 per month One of the top market regulators in the US said this week that cryptocurrency is a technological revolution that will one day be a part of every national economy Speak\n",
      "\n",
      "\n",
      "\n",
      "Get exclusive analysis and cryptocurrency insights on Hacked com for just 39 per month The Russian government will continue to tread the subject of cryptocurrencies with caution newly re elected president Vladimir Putin said during his annual Q A hotline s\n",
      "\n",
      "\n",
      "\n",
      "Mike Novogratz a billionaire investor and former Goldman Sachs trader told Erik Schatzker that cryptocurrency market is moving to the 20 trillion region\n",
      "\n",
      "\n",
      "\n",
      "Litecoin cash has become the latest cryptocurrency to succumb to a 51 percent attack highlighting a worrisome trend among small cap coins\n",
      "\n",
      "\n",
      "\n",
      "A mysterious Asian whale accumulated more than 94 000 bitcoins during the first half of 2018 Are they now preparing for a sell off\n",
      "\n",
      "\n",
      "\n"
     ]
    }
   ],
   "source": [
    "find_Sentiment()"
   ]
  },
  {
   "cell_type": "code",
   "execution_count": null,
   "metadata": {
    "collapsed": true
   },
   "outputs": [],
   "source": []
  }
 ],
 "metadata": {
  "kernelspec": {
   "display_name": "Python 3",
   "language": "python",
   "name": "python3"
  },
  "language_info": {
   "codemirror_mode": {
    "name": "ipython",
    "version": 3
   },
   "file_extension": ".py",
   "mimetype": "text/x-python",
   "name": "python",
   "nbconvert_exporter": "python",
   "pygments_lexer": "ipython3",
   "version": "3.6.2"
  }
 },
 "nbformat": 4,
 "nbformat_minor": 2
}
