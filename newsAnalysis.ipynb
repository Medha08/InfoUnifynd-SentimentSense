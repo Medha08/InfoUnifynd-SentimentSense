{
 "cells": [
  {
   "cell_type": "code",
   "execution_count": 9,
   "metadata": {
    "collapsed": true
   },
   "outputs": [],
   "source": [
    "import requests\n",
    "import re\n",
    "import numpy as np\n",
    "\n",
    "import pandas as pd\n",
    "from textblob import TextBlob\n",
    "import json\n",
    "import csv\n",
    "from datetime import date\n",
    "import calendar\n",
    "my_date = date.today()\n"
   ]
  },
  {
   "cell_type": "code",
   "execution_count": 2,
   "metadata": {
    "collapsed": true
   },
   "outputs": [],
   "source": [
    "r = requests.get('https://newsapi.org/v2/top-headlines?q=bitcoin&sources=crypto-coins-news&apiKey=c7f7fc0490074243888cc544008bff3e')\n",
    "\n",
    "# print(type(r.json()))\n",
    "jsonData  = r.json()\n",
    "newsData = []"
   ]
  },
  {
   "cell_type": "code",
   "execution_count": 3,
   "metadata": {
    "collapsed": true
   },
   "outputs": [],
   "source": [
    "for i in jsonData['articles']:\n",
    "    news = {}\n",
    "    news[\"created_at\"] = i[\"publishedAt\"]\n",
    "    text = re.sub(r'@\\S+|https?://\\S+', '', i[\"description\"])\n",
    "    cleaned = \"\".join(re.findall('[A-Z][^A-Z]*', text))\n",
    "    tweet = ' '.join(re.sub(\"(@[A-Za-z0-9]+)|([^0-9A-Za-z \\t])|(\\w+:\\/\\/\\S+)\",\" \",cleaned).split())\n",
    "    news[\"description\"] = tweet\n",
    "    newsData.append(news)"
   ]
  },
  {
   "cell_type": "code",
   "execution_count": 15,
   "metadata": {},
   "outputs": [],
   "source": [
    "newsData = pd.read_csv('News_SA.csv')\n",
    "# print(newsData)\n",
    "sentiment_df = []\n",
    "def find_Sentiment():\n",
    "    \n",
    "    c=0\n",
    "    for idx, obj in newsData.iterrows():\n",
    "        temp = []\n",
    "#         print(obj[\"description\"])\n",
    "#         print(\"\\n\\n\")\n",
    "        analysis = TextBlob(obj[\"description\"])\n",
    "        y = (my_date.weekday()-c)%7\n",
    "        \n",
    "        day = calendar.day_name[y][0:3]\n",
    "        temp.append(day)\n",
    "        temp.append(obj[\"description\"])\n",
    "        temp.append(analysis.sentiment.polarity)\n",
    "#         print (temp)\n",
    "        sentiment_df.append(temp)\n",
    "    print(sentiment_df)\n",
    "        "
   ]
  },
  {
   "cell_type": "code",
   "execution_count": 16,
   "metadata": {},
   "outputs": [
    {
     "name": "stdout",
     "output_type": "stream",
     "text": [
      "[['Sat', \"Testing for Ethereum's Coming Consensus Change Is Moving Ahead\", 0.0], ['Sat', 'The cofounder of hedge fund giant Two Sigma is no fan of cryptocurrencies—though he does see promise in its underlying technology, blockchain', 0.0], ['Sat', 'Speaking of the devil, that’s definitely one of the features I believe we should be trying to avoid. Bitcoin’s purpose is to be fully decentralized, so any action, update or improvement that won’t go in that direction should be disregarded.', 0.05], ['Sat', 'VanEck and SolidX, two prominent firms in the digital asset space, have agreed to collaborate in launching a Bitcoin exchange-traded fund (ETF). Both companies have previously tried to launch a Bitcoin ETF offering but failed to receive regulatory clearance.', -0.04166666666666666], ['Sat', 'The Enforcement Directorate had, in April, arrested the key mastermind and founder of GainBitcoin Amit Bhardwaj for allegedly duping investors worth Rs 2,000 crore.', 0.06666666666666667], ['Sat', 'Bitcoin bubble or boost: $30,000 – Bitcoin price prediction 2018 from a financial analyst (BTC Forecast News) -Cryptocurrency Today', 0.0], ['Sat', \"ailed Breakout Revives Bitcoin's Bull-Bear Tug-of-War\", 0.0], ['Sat', 'CNBC: Google Searches for Bitcoin Down 75% Since Early 2018', -0.02777777777777779], ['Sat', 'Russian Court Overturns Cryptocurrency Media Ban', 0.0], ['Sat', 'The firm is opening trading to a small group of its 500 clients, with plans to expand.', -0.225], ['Sat', '42.8% of cryptocurrency investors intend to ‘hodl’ their funds over a long period, South Korea exchange Bithumb revealed June 7', -0.05], ['Sat', 'Bullish Signals Hint at Bitcoin Price Breakout', 0.0], ['Sat', 'Jamie Dimon’s Latest Bitcoin Advice: ‘Just Beware’', 0.5], ['Sat', \"NYDFS Chief Defends State Regulator's Crypto Approach\", 0.0], ['Sat', 'Crypto market overview: Bitcoin, Ethereum, and Ripple confined to narrow ranges; bears are hatching a plot', -0.2], ['Sat', 'lchemint Aims to Issue a Stablecoin on the NEO Blockchain', 0.0], ['Sat', 'Upcoming Cryptocurrency Trials Trio of Tech Advance', 0.0], ['Sat', 'Bitcoin Cash Price: Push to $1,150 is in Full Effect', 0.35], ['Sat', '90 percent of Bitcoin Cash holdings are held as investments and never change hands, new research from Chainalysisrevealed on June 8', 0.13636363636363635], ['Sat', 'Weiss Ratings claims EOS, the fifth largest cryptocurrency by market capitalization, warrants a “top rating.” However, analysts also claim that the much-hyped Ethereum rival has a rather serious centralization problem — one which may warrant downgraded ratings in the future.', 0.05555555555555556], ['Sat', 'How Blockchain Can Finally Fulfill a Global Promise', 0.0], ['Sat', 'Bitcoin’s Low Volume Breakout May Be a Bull Trap', 0.0], ['Sat', 'Crypto and Twitter: A Toxic Combination, a Troubling Future', 0.0], ['Sat', 'Understanding the critical importance of proper networking, SimpleFX unveiled its new affiliation software. Partnering up with Unilink, the platform is to provide reliable, trackable, and entirely transparent solutions in an attempt to make its affiliates’ work a lot easier.', 0.03409090909090909], ['Sat', 'Bitcoin Price Watch: Currency Holds Ground at $7,600', 0.0], ['Sat', 'New Developments That Could See Bitcoin Cash Skyrocket - Crypto Daily™', 0.13636363636363635], ['Sat', 'Study Finds 90% of Bitcoin Cash Held for Investment. a year after the hard fork that led to its creation, Bitcoin Cash is even less liquid and has a lower percentage of transactions than Bitcoin', -0.22916666666666669], ['Sat', 'Though small, the currency has ultimately failed to defend this new line, leading analysts to wonder if $8,000 is no longer doable in the short-term.', -0.20454545454545456], ['Sat', 'Regulatory developments involving cryptocurrencies are always worth keeping an eye on. In Indonesia, there has been a lot of confusion regarding the future of Bitcoin and similar currencies.', 0.09999999999999999], ['Sat', 'A lot of positive things are taking place in the cryptocurrency world right now. While most countries are cracking down on cryptocurrency trading in one way or another, the?UAE is preparing to embrace Bitcoin and other currencies once again. After a brief struggle, UAE exchange BitOasis has reinstated AED deposits and withdrawals.', 0.1220719095719096], ['Sat', 'Data Shows Switch From ‘Hodlers’ to Speculators in Bitcoin in Last 6 Months', 0.0], ['Sat', \"New chip manufacturers Obelisk is bringing competition to Bitcoin mining as they intend to work with cryptocurrency projects to get ahead of the game. CEO David Vorick is planning to develop consensus algorithms with new projects allowing Obelisk's ASIC miners to start mining when the project launches\", -0.04242424242424244], ['Sat', 'Measuring The True Impact Of India’s Cryptocurrency Regulation\" is breaking news from the Crypto sector', 0.35], ['Sat', 'Bart Smith who has been crowned Wall Street s Crypto King by CNBC says institutional investors will jump into bitcoin once there is regulatory clarity', 0.0], ['Sat', 'The billionaire CEO of Nowegian Airlines has launched a cryptocurrency exchange and his airline may begin accepting cryptocurrency payments', 0.0], ['Sat', 'Bitmain CEO Jihan Wu has denied reports that the China based firm which controls 80 of the ASIC market has a secret cryptocurrency mining operation', -0.30000000000000004], ['Sat', 'Enterprise blockchain startup R3 is burning through cash at a breakneck pace and could be out of money by the first quarter of 2019', 0.25], ['Sat', 'Bitcoin price has bottomed and will rise over the next few days says Robert Sluymer head of technical strategy at Fundstrat', -0.06666666666666667], ['Sat', 'Get exclusive analysis and cryptocurrency insights on Hacked com for just 39 per month One of the top market regulators in the US said this week that cryptocurrency is a technological revolution that will one day be a part of every national economy Speak', 0.5], ['Sat', 'Get exclusive analysis and cryptocurrency insights on Hacked com for just 39 per month The Russian government will continue to tread the subject of cryptocurrencies with caution newly re elected president Vladimir Putin said during his annual Q A hotline s', -0.010101010101010102], ['Sat', 'Mike Novogratz a billionaire investor and former Goldman Sachs trader told Erik Schatzker that cryptocurrency market is moving to the 20 trillion region', 0.0], ['Sat', 'Litecoin cash has become the latest cryptocurrency to succumb to a 51 percent attack highlighting a worrisome trend among small cap coins', 0.125], ['Sat', 'A mysterious Asian whale accumulated more than 94 000 bitcoins during the first half of 2018 Are they now preparing for a sell off', 0.11666666666666667], ['Sat', 'VIETNAM STRUGGLES TO GET A HANDLE ON CRYPTOCURRENCY', 0.0], ['Sat', 'Binance Leads $12 Million Investment In AngelList Crypto Spin-Off Republic', 0.0], ['Sat', 'German Banks Trade Cryptos, US Universities Invest in Crypto Hedge Funds', 0.0], ['Sat', 'RUSSIA: CRYPTOCURRENCY USERS MUST CALCULATE OWN TAX', 0.6], ['Sat', 'Bitcoin Cash Price: Push to $1,150 is in Full Effect', 0.35], ['Sat', \"Blockchain's Once-Feared 51% Attack Is Now Becoming Regular\", 0.225], ['Sat', 'Bitcoin (BTC) will surpass $15,000 in June, but will dip in July, McAfee predicted', 0.0], ['Sat', \"Bitcoin's Chance at the $20 Trillion Offshore Tax Haven Market\", 0.0], ['Sat', 'Bitfinex, A Hong Kong-based crypto exchange briefly suspended its trading services today due to a cyber-attack, causing the trading platform to be under an extreme load. Bitfinex which is …', -0.08333333333333333], ['Sat', 'CBI inspector moved to Shillong for duration of Bitcoin inquiry', 0.0], ['Sat', 'Hackers prove how powerful computers can cheat Bitcoin and blockchain', 0.3], ['Sat', 'CREDITS offers a blockchain solution for human capital management to Andhra Pradesh Government and cooperates with a university in India.', 0.05], ['Sat', 'Blockchain-Based Video-On-Demand Platform Aims to Revolutionize the Entertainment Industry', 0.0], ['Sat', 'Accused in bitcoin case sent to police custody till June 8', 0.0], ['Sat', 'Brad Garlinghouse, Chief Executive Officer of Ripple, believes dozens of banks to be using Ripple by the end of 2019, given its speed of transaction and low cost. He was …', 0.0], ['Sat', 'Shilpa Shetty Kundra’s husband Raj Kindra grilled by ED in bitcoins transactions case', 0.0], ['Sat', 'The U.S. government telecom agency has called on all interested stakeholders to submit recommendations for new policies surrounding a host of areas, comprising of emerging technologies and trends like the …', 0.19318181818181818], ['Sat', 'Fundstrat Analyst Claims Bitcoin’s Bottom Is In', 0.0], ['Sat', 'Cryptocurrency Hedge Funds Invest in Zilliqa, Aelf, ICON, and 0x', 0.0]]\n"
     ]
    }
   ],
   "source": [
    "find_Sentiment()"
   ]
  },
  {
   "cell_type": "code",
   "execution_count": 17,
   "metadata": {
    "collapsed": true
   },
   "outputs": [],
   "source": [
    "# sentiment_df.to_csv(\"News_SA.csv\")\n",
    "with open(\"News_SA_output.csv\", 'w') as myfile:\n",
    "    for obj in sentiment_df:\n",
    "        wr = csv.writer(myfile, quoting=csv.QUOTE_ALL)\n",
    "        wr.writerow(obj)"
   ]
  },
  {
   "cell_type": "code",
   "execution_count": 8,
   "metadata": {},
   "outputs": [
    {
     "ename": "SyntaxError",
     "evalue": "invalid syntax (<ipython-input-8-12d7dd06dcdf>, line 1)",
     "output_type": "error",
     "traceback": [
      "\u001b[0;36m  File \u001b[0;32m\"<ipython-input-8-12d7dd06dcdf>\"\u001b[0;36m, line \u001b[0;32m1\u001b[0m\n\u001b[0;31m    from crypto-news-api import CryptoControlApi\u001b[0m\n\u001b[0m               ^\u001b[0m\n\u001b[0;31mSyntaxError\u001b[0m\u001b[0;31m:\u001b[0m invalid syntax\n"
     ]
    }
   ],
   "source": [
    "from crypto-news-api import CryptoControlApi \n",
    "\n",
    "const Api = new CryptoControlApi('c1aa1e963a46da33d9889161fc85ddf3')\n",
    "\n",
    "Api.getTopNews()\n",
    "    .then(articles => print(articles))\n",
    "    .catch(error => console.error(error))"
   ]
  },
  {
   "cell_type": "code",
   "execution_count": null,
   "metadata": {
    "collapsed": true
   },
   "outputs": [],
   "source": []
  }
 ],
 "metadata": {
  "kernelspec": {
   "display_name": "Python 3",
   "language": "python",
   "name": "python3"
  },
  "language_info": {
   "codemirror_mode": {
    "name": "ipython",
    "version": 3
   },
   "file_extension": ".py",
   "mimetype": "text/x-python",
   "name": "python",
   "nbconvert_exporter": "python",
   "pygments_lexer": "ipython3",
   "version": "3.6.2"
  }
 },
 "nbformat": 4,
 "nbformat_minor": 2
}
